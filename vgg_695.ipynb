{
 "cells": [
  {
   "cell_type": "code",
   "execution_count": 1,
   "metadata": {
    "colab": {
     "base_uri": "https://localhost:8080/"
    },
    "executionInfo": {
     "elapsed": 45368,
     "status": "ok",
     "timestamp": 1605926448830,
     "user": {
      "displayName": "SHUAIHENG XIAO",
      "photoUrl": "",
      "userId": "00050360622927862885"
     },
     "user_tz": -480
    },
    "id": "nDJKeeJBq5Xa",
    "outputId": "7c9c94ac-ff47-45bb-e30c-4e5e7454730c"
   },
   "outputs": [
    {
     "name": "stdout",
     "output_type": "stream",
     "text": [
      "E: Package 'python-software-properties' has no installation candidate\n",
      "Selecting previously unselected package google-drive-ocamlfuse.\n",
      "(Reading database ... 144793 files and directories currently installed.)\n",
      "Preparing to unpack .../google-drive-ocamlfuse_0.7.23-0ubuntu1~ubuntu18.04.1_amd64.deb ...\n",
      "Unpacking google-drive-ocamlfuse (0.7.23-0ubuntu1~ubuntu18.04.1) ...\n",
      "Setting up google-drive-ocamlfuse (0.7.23-0ubuntu1~ubuntu18.04.1) ...\n",
      "Processing triggers for man-db (2.8.3-2ubuntu0.1) ...\n",
      "Please, open the following URL in a web browser: https://accounts.google.com/o/oauth2/auth?client_id=32555940559.apps.googleusercontent.com&redirect_uri=urn%3Aietf%3Awg%3Aoauth%3A2.0%3Aoob&scope=https%3A%2F%2Fwww.googleapis.com%2Fauth%2Fdrive&response_type=code&access_type=offline&approval_prompt=force\n",
      "··········\n",
      "Please, open the following URL in a web browser: https://accounts.google.com/o/oauth2/auth?client_id=32555940559.apps.googleusercontent.com&redirect_uri=urn%3Aietf%3Awg%3Aoauth%3A2.0%3Aoob&scope=https%3A%2F%2Fwww.googleapis.com%2Fauth%2Fdrive&response_type=code&access_type=offline&approval_prompt=force\n",
      "Please enter the verification code: Access token retrieved correctly.\n"
     ]
    }
   ],
   "source": [
    "!apt-get install -y -qq software-properties-common python-software-properties module-init-tools\n",
    "!add-apt-repository -y ppa:alessandro-strada/ppa 2>&1 > /dev/null\n",
    "!apt-get update -qq 2>&1 > /dev/null\n",
    "!apt-get -y install -qq google-drive-ocamlfuse fuse\n",
    "from google.colab import auth\n",
    "auth.authenticate_user()\n",
    "from oauth2client.client import GoogleCredentials\n",
    "creds = GoogleCredentials.get_application_default()\n",
    "import getpass\n",
    "!google-drive-ocamlfuse -headless -id={creds.client_id} -secret={creds.client_secret} < /dev/null 2>&1 | grep URL\n",
    "vcode = getpass.getpass()\n",
    "!echo {vcode} | google-drive-ocamlfuse -headless -id={creds.client_id} -secret={creds.client_secret}"
   ]
  },
  {
   "cell_type": "code",
   "execution_count": 2,
   "metadata": {
    "executionInfo": {
     "elapsed": 867,
     "status": "ok",
     "timestamp": 1605926452735,
     "user": {
      "displayName": "SHUAIHENG XIAO",
      "photoUrl": "",
      "userId": "00050360622927862885"
     },
     "user_tz": -480
    },
    "id": "FiXHGAz2q5Xa"
   },
   "outputs": [],
   "source": [
    "!mkdir -p drive\n",
    "!google-drive-ocamlfuse drive"
   ]
  },
  {
   "cell_type": "code",
   "execution_count": 3,
   "metadata": {
    "colab": {
     "base_uri": "https://localhost:8080/"
    },
    "executionInfo": {
     "elapsed": 17701,
     "status": "ok",
     "timestamp": 1605926469774,
     "user": {
      "displayName": "SHUAIHENG XIAO",
      "photoUrl": "",
      "userId": "00050360622927862885"
     },
     "user_tz": -480
    },
    "id": "YXBlj6Mzq5Xa",
    "outputId": "9c9815cd-cf8b-4cd1-9fa9-e9b95b0b07a5"
   },
   "outputs": [
    {
     "name": "stdout",
     "output_type": "stream",
     "text": [
      "Mounted at /content/drive\n"
     ]
    }
   ],
   "source": [
    "from google.colab import drive\n",
    "drive.mount('/content/drive')"
   ]
  },
  {
   "cell_type": "code",
   "execution_count": 4,
   "metadata": {
    "executionInfo": {
     "elapsed": 2891,
     "status": "ok",
     "timestamp": 1605926477549,
     "user": {
      "displayName": "SHUAIHENG XIAO",
      "photoUrl": "",
      "userId": "00050360622927862885"
     },
     "user_tz": -480
    },
    "id": "PRXLQJKnq5Xa"
   },
   "outputs": [],
   "source": [
    "import h5py\n",
    "import numpy as np\n",
    "from keras.utils import np_utils\n",
    "from tensorflow.keras.applications.vgg19 import VGG19\n",
    "from tensorflow.keras import Sequential\n",
    "from tensorflow.keras.layers import Flatten, Dense, Dropout\n",
    "import tqdm\n",
    "import os\n",
    "import cv2"
   ]
  },
  {
   "cell_type": "code",
   "execution_count": 5,
   "metadata": {
    "executionInfo": {
     "elapsed": 1169,
     "status": "ok",
     "timestamp": 1605926483818,
     "user": {
      "displayName": "SHUAIHENG XIAO",
      "photoUrl": "",
      "userId": "00050360622927862885"
     },
     "user_tz": -480
    },
    "id": "oB9oKJELq5Xa"
   },
   "outputs": [],
   "source": [
    "file = h5py.File('/content/drive/My Drive/dataset.hdf5',mode = 'r')"
   ]
  },
  {
   "cell_type": "code",
   "execution_count": 6,
   "metadata": {
    "executionInfo": {
     "elapsed": 60446,
     "status": "ok",
     "timestamp": 1605926545855,
     "user": {
      "displayName": "SHUAIHENG XIAO",
      "photoUrl": "",
      "userId": "00050360622927862885"
     },
     "user_tz": -480
    },
    "id": "NsFpK-QZq5Xa"
   },
   "outputs": [],
   "source": [
    "x_train = file['x_train'][:]\n",
    "y_train = file['y_train'][:]\n",
    "x_val = file['x_val'][:]\n",
    "y_val = file['y_val'][:]\n",
    "x_test = file['x_test'][:]\n",
    "y_test = file['y_test'][:]"
   ]
  },
  {
   "cell_type": "code",
   "execution_count": 7,
   "metadata": {
    "executionInfo": {
     "elapsed": 3477,
     "status": "ok",
     "timestamp": 1605926551889,
     "user": {
      "displayName": "SHUAIHENG XIAO",
      "photoUrl": "",
      "userId": "00050360622927862885"
     },
     "user_tz": -480
    },
    "id": "BDqYaw8Vq5Xa"
   },
   "outputs": [],
   "source": [
    "x_train = x_train.astype('float32')\n",
    "x_val = x_val.astype('float32')\n",
    "x_test = x_test.astype('float32')\n",
    "x_train /= 255\n",
    "x_val /= 255\n",
    "x_test /= 255"
   ]
  },
  {
   "cell_type": "code",
   "execution_count": 8,
   "metadata": {
    "colab": {
     "base_uri": "https://localhost:8080/"
    },
    "executionInfo": {
     "elapsed": 6965,
     "status": "ok",
     "timestamp": 1605926560124,
     "user": {
      "displayName": "SHUAIHENG XIAO",
      "photoUrl": "",
      "userId": "00050360622927862885"
     },
     "user_tz": -480
    },
    "id": "izO4_TCsq5Xa",
    "outputId": "f1961ad2-f39e-4c48-845c-414713dfe499"
   },
   "outputs": [
    {
     "name": "stdout",
     "output_type": "stream",
     "text": [
      "Downloading data from https://storage.googleapis.com/tensorflow/keras-applications/vgg19/vgg19_weights_tf_dim_ordering_tf_kernels_notop.h5\n",
      "80142336/80134624 [==============================] - 1s 0us/step\n"
     ]
    }
   ],
   "source": [
    "vgg = VGG19(weights = 'imagenet', include_top = False, input_shape = (224, 224, 3))"
   ]
  },
  {
   "cell_type": "code",
   "execution_count": 9,
   "metadata": {
    "executionInfo": {
     "elapsed": 5855,
     "status": "ok",
     "timestamp": 1605926560125,
     "user": {
      "displayName": "SHUAIHENG XIAO",
      "photoUrl": "",
      "userId": "00050360622927862885"
     },
     "user_tz": -480
    },
    "id": "feLrDMvGq5Xa"
   },
   "outputs": [],
   "source": [
    "for layer in vgg.layers:\n",
    "    layer.trainable = False"
   ]
  },
  {
   "cell_type": "code",
   "execution_count": 10,
   "metadata": {
    "executionInfo": {
     "elapsed": 5585,
     "status": "ok",
     "timestamp": 1605926560126,
     "user": {
      "displayName": "SHUAIHENG XIAO",
      "photoUrl": "",
      "userId": "00050360622927862885"
     },
     "user_tz": -480
    },
    "id": "3_UYrC80q5Xa"
   },
   "outputs": [],
   "source": [
    "model = Sequential()\n",
    "model.add(vgg)\n",
    "model.add(Flatten())\n",
    "model.add(Dense(1, activation = 'sigmoid'))"
   ]
  },
  {
   "cell_type": "code",
   "execution_count": 11,
   "metadata": {
    "executionInfo": {
     "elapsed": 834,
     "status": "ok",
     "timestamp": 1605926563359,
     "user": {
      "displayName": "SHUAIHENG XIAO",
      "photoUrl": "",
      "userId": "00050360622927862885"
     },
     "user_tz": -480
    },
    "id": "7kDqFsOuq5Xa"
   },
   "outputs": [],
   "source": [
    "model.compile(optimizer = 'adam', loss = 'binary_crossentropy', metrics = ['accuracy'])"
   ]
  },
  {
   "cell_type": "code",
   "execution_count": 12,
   "metadata": {
    "executionInfo": {
     "elapsed": 523,
     "status": "ok",
     "timestamp": 1605926563721,
     "user": {
      "displayName": "SHUAIHENG XIAO",
      "photoUrl": "",
      "userId": "00050360622927862885"
     },
     "user_tz": -480
    },
    "id": "PlvvHZFhq5Xa"
   },
   "outputs": [],
   "source": [
    "from tensorflow.keras.callbacks import ModelCheckpoint,EarlyStopping\n",
    "checkpoint = ModelCheckpoint(\"/content/drive/My Drive/weights_695.h5\",monitor=\"val_accuracy\",verbose=1,save_best_only=True,\n",
    "                             save_weights_only=True)\n",
    "earlystop = EarlyStopping(monitor=\"val_accuracy\",patience=5,verbose=1)"
   ]
  },
  {
   "cell_type": "code",
   "execution_count": 13,
   "metadata": {
    "colab": {
     "base_uri": "https://localhost:8080/"
    },
    "executionInfo": {
     "elapsed": 552964,
     "status": "ok",
     "timestamp": 1605927118695,
     "user": {
      "displayName": "SHUAIHENG XIAO",
      "photoUrl": "",
      "userId": "00050360622927862885"
     },
     "user_tz": -480
    },
    "id": "V1o0pqgDq5Xa",
    "outputId": "d48f5181-f466-4039-accf-52a866ffbe23"
   },
   "outputs": [
    {
     "name": "stdout",
     "output_type": "stream",
     "text": [
      "Epoch 1/30\n",
      "66/66 [==============================] - ETA: 0s - loss: 0.2800 - accuracy: 0.8722\n",
      "Epoch 00001: val_accuracy improved from -inf to 0.93169, saving model to /content/drive/My Drive/weights_695.h5\n",
      "66/66 [==============================] - 25s 385ms/step - loss: 0.2800 - accuracy: 0.8722 - val_loss: 0.1770 - val_accuracy: 0.9317\n",
      "Epoch 2/30\n",
      "66/66 [==============================] - ETA: 0s - loss: 0.1288 - accuracy: 0.9533\n",
      "Epoch 00002: val_accuracy improved from 0.93169 to 0.94118, saving model to /content/drive/My Drive/weights_695.h5\n",
      "66/66 [==============================] - 23s 348ms/step - loss: 0.1288 - accuracy: 0.9533 - val_loss: 0.1530 - val_accuracy: 0.9412\n",
      "Epoch 3/30\n",
      "66/66 [==============================] - ETA: 0s - loss: 0.1002 - accuracy: 0.9637\n",
      "Epoch 00003: val_accuracy improved from 0.94118 to 0.94782, saving model to /content/drive/My Drive/weights_695.h5\n",
      "66/66 [==============================] - 23s 354ms/step - loss: 0.1002 - accuracy: 0.9637 - val_loss: 0.1397 - val_accuracy: 0.9478\n",
      "Epoch 4/30\n",
      "66/66 [==============================] - ETA: 0s - loss: 0.0900 - accuracy: 0.9677\n",
      "Epoch 00004: val_accuracy improved from 0.94782 to 0.95066, saving model to /content/drive/My Drive/weights_695.h5\n",
      "66/66 [==============================] - 24s 362ms/step - loss: 0.0900 - accuracy: 0.9677 - val_loss: 0.1499 - val_accuracy: 0.9507\n",
      "Epoch 5/30\n",
      "66/66 [==============================] - ETA: 0s - loss: 0.0833 - accuracy: 0.9711\n",
      "Epoch 00005: val_accuracy did not improve from 0.95066\n",
      "66/66 [==============================] - 23s 354ms/step - loss: 0.0833 - accuracy: 0.9711 - val_loss: 0.1417 - val_accuracy: 0.9469\n",
      "Epoch 6/30\n",
      "66/66 [==============================] - ETA: 0s - loss: 0.0774 - accuracy: 0.9737\n",
      "Epoch 00006: val_accuracy did not improve from 0.95066\n",
      "66/66 [==============================] - 24s 368ms/step - loss: 0.0774 - accuracy: 0.9737 - val_loss: 0.1391 - val_accuracy: 0.9488\n",
      "Epoch 7/30\n",
      "66/66 [==============================] - ETA: 0s - loss: 0.0635 - accuracy: 0.9791\n",
      "Epoch 00007: val_accuracy did not improve from 0.95066\n",
      "66/66 [==============================] - 25s 383ms/step - loss: 0.0635 - accuracy: 0.9791 - val_loss: 0.1517 - val_accuracy: 0.9431\n",
      "Epoch 8/30\n",
      "66/66 [==============================] - ETA: 0s - loss: 0.0624 - accuracy: 0.9794\n",
      "Epoch 00008: val_accuracy improved from 0.95066 to 0.95541, saving model to /content/drive/My Drive/weights_695.h5\n",
      "66/66 [==============================] - 27s 415ms/step - loss: 0.0624 - accuracy: 0.9794 - val_loss: 0.1216 - val_accuracy: 0.9554\n",
      "Epoch 9/30\n",
      "66/66 [==============================] - ETA: 0s - loss: 0.0575 - accuracy: 0.9801\n",
      "Epoch 00009: val_accuracy did not improve from 0.95541\n",
      "66/66 [==============================] - 26s 392ms/step - loss: 0.0575 - accuracy: 0.9801 - val_loss: 0.1242 - val_accuracy: 0.9554\n",
      "Epoch 10/30\n",
      "66/66 [==============================] - ETA: 0s - loss: 0.0496 - accuracy: 0.9867\n",
      "Epoch 00010: val_accuracy did not improve from 0.95541\n",
      "66/66 [==============================] - 26s 391ms/step - loss: 0.0496 - accuracy: 0.9867 - val_loss: 0.1331 - val_accuracy: 0.9497\n",
      "Epoch 11/30\n",
      "66/66 [==============================] - ETA: 0s - loss: 0.0476 - accuracy: 0.9860\n",
      "Epoch 00011: val_accuracy improved from 0.95541 to 0.96205, saving model to /content/drive/My Drive/weights_695.h5\n",
      "66/66 [==============================] - 27s 409ms/step - loss: 0.0476 - accuracy: 0.9860 - val_loss: 0.1141 - val_accuracy: 0.9620\n",
      "Epoch 12/30\n",
      "66/66 [==============================] - ETA: 0s - loss: 0.0471 - accuracy: 0.9860\n",
      "Epoch 00012: val_accuracy did not improve from 0.96205\n",
      "66/66 [==============================] - 26s 393ms/step - loss: 0.0471 - accuracy: 0.9860 - val_loss: 0.1210 - val_accuracy: 0.9564\n",
      "Epoch 13/30\n",
      "66/66 [==============================] - ETA: 0s - loss: 0.0424 - accuracy: 0.9867\n",
      "Epoch 00013: val_accuracy did not improve from 0.96205\n",
      "66/66 [==============================] - 26s 394ms/step - loss: 0.0424 - accuracy: 0.9867 - val_loss: 0.1170 - val_accuracy: 0.9592\n",
      "Epoch 14/30\n",
      "66/66 [==============================] - ETA: 0s - loss: 0.0388 - accuracy: 0.9900\n",
      "Epoch 00014: val_accuracy did not improve from 0.96205\n",
      "66/66 [==============================] - 26s 395ms/step - loss: 0.0388 - accuracy: 0.9900 - val_loss: 0.1223 - val_accuracy: 0.9554\n",
      "Epoch 15/30\n",
      "66/66 [==============================] - ETA: 0s - loss: 0.0355 - accuracy: 0.9919\n",
      "Epoch 00015: val_accuracy did not improve from 0.96205\n",
      "66/66 [==============================] - 26s 396ms/step - loss: 0.0355 - accuracy: 0.9919 - val_loss: 0.1238 - val_accuracy: 0.9564\n",
      "Epoch 16/30\n",
      "66/66 [==============================] - ETA: 0s - loss: 0.0331 - accuracy: 0.9924\n",
      "Epoch 00016: val_accuracy improved from 0.96205 to 0.96395, saving model to /content/drive/My Drive/weights_695.h5\n",
      "66/66 [==============================] - 27s 405ms/step - loss: 0.0331 - accuracy: 0.9924 - val_loss: 0.1086 - val_accuracy: 0.9639\n",
      "Epoch 17/30\n",
      "66/66 [==============================] - ETA: 0s - loss: 0.0313 - accuracy: 0.9924\n",
      "Epoch 00017: val_accuracy did not improve from 0.96395\n",
      "66/66 [==============================] - 26s 395ms/step - loss: 0.0313 - accuracy: 0.9924 - val_loss: 0.1169 - val_accuracy: 0.9573\n",
      "Epoch 18/30\n",
      "66/66 [==============================] - ETA: 0s - loss: 0.0274 - accuracy: 0.9943\n",
      "Epoch 00018: val_accuracy did not improve from 0.96395\n",
      "66/66 [==============================] - 26s 396ms/step - loss: 0.0274 - accuracy: 0.9943 - val_loss: 0.1101 - val_accuracy: 0.9630\n",
      "Epoch 19/30\n",
      "66/66 [==============================] - ETA: 0s - loss: 0.0298 - accuracy: 0.9931\n",
      "Epoch 00019: val_accuracy did not improve from 0.96395\n",
      "66/66 [==============================] - 26s 394ms/step - loss: 0.0298 - accuracy: 0.9931 - val_loss: 0.1085 - val_accuracy: 0.9639\n",
      "Epoch 20/30\n",
      "66/66 [==============================] - ETA: 0s - loss: 0.0296 - accuracy: 0.9922\n",
      "Epoch 00020: val_accuracy did not improve from 0.96395\n",
      "66/66 [==============================] - 26s 395ms/step - loss: 0.0296 - accuracy: 0.9922 - val_loss: 0.1343 - val_accuracy: 0.9545\n",
      "Epoch 21/30\n",
      "66/66 [==============================] - ETA: 0s - loss: 0.0299 - accuracy: 0.9910\n",
      "Epoch 00021: val_accuracy did not improve from 0.96395\n",
      "66/66 [==============================] - 26s 395ms/step - loss: 0.0299 - accuracy: 0.9910 - val_loss: 0.1067 - val_accuracy: 0.9639\n",
      "Epoch 00021: early stopping\n"
     ]
    }
   ],
   "source": [
    "history = model.fit(x_train,y_train, batch_size = 64, epochs = 30, validation_data=(x_val,y_val),shuffle = True,verbose=1,callbacks=[checkpoint,earlystop])"
   ]
  },
  {
   "cell_type": "code",
   "execution_count": 14,
   "metadata": {
    "colab": {
     "base_uri": "https://localhost:8080/"
    },
    "executionInfo": {
     "elapsed": 433607,
     "status": "ok",
     "timestamp": 1605927124197,
     "user": {
      "displayName": "SHUAIHENG XIAO",
      "photoUrl": "",
      "userId": "00050360622927862885"
     },
     "user_tz": -480
    },
    "id": "wAIEhb6jq5Xa",
    "outputId": "8bd70bba-9099-4df1-9680-2ccfb9af300b"
   },
   "outputs": [
    {
     "name": "stdout",
     "output_type": "stream",
     "text": [
      "19/19 [==============================] - 3s 181ms/step - loss: 0.1155 - accuracy: 0.9573\n"
     ]
    },
    {
     "data": {
      "text/plain": [
       "[0.11553595960140228, 0.9573378562927246]"
      ]
     },
     "execution_count": 14,
     "metadata": {
      "tags": []
     },
     "output_type": "execute_result"
    }
   ],
   "source": [
    "model.evaluate(x_test,y_test)"
   ]
  },
  {
   "cell_type": "code",
   "execution_count": 15,
   "metadata": {
    "colab": {
     "base_uri": "https://localhost:8080/",
     "height": 408
    },
    "executionInfo": {
     "elapsed": 433285,
     "status": "ok",
     "timestamp": 1605927124198,
     "user": {
      "displayName": "SHUAIHENG XIAO",
      "photoUrl": "",
      "userId": "00050360622927862885"
     },
     "user_tz": -480
    },
    "id": "SV74Vd36q5Xa",
    "outputId": "20dbf780-eb0e-4821-d492-c4a1dfe147c7"
   },
   "outputs": [
    {
     "data": {
      "image/png": "[encoded data removed]",
      "text/plain": [
       "<Figure size 864x432 with 2 Axes>"
      ]
     },
     "metadata": {
      "tags": []
     },
     "output_type": "display_data"
    }
   ],
   "source": [
    "import matplotlib.pyplot as plt\n",
    "plt.style.use(\"ggplot\")\n",
    "fig = plt.figure(figsize=(12,6))\n",
    "epochs = range(1,len(history.history['accuracy'])+1)\n",
    "plt.subplot(1,2,1)\n",
    "plt.plot(epochs,history.history[\"accuracy\"],\"go-\")\n",
    "plt.plot(epochs,history.history[\"val_accuracy\"],\"ro-\")\n",
    "plt.title(\"Model Accuracy\")\n",
    "plt.xlabel(\"Epochs\")\n",
    "plt.ylabel(\"Accuracy\")\n",
    "plt.legend([\"Train\",\"val\"],loc = \"upper left\")\n",
    "\n",
    "plt.subplot(1,2,2)\n",
    "plt.plot(epochs,history.history[\"loss\"],\"go-\")\n",
    "plt.plot(epochs,history.history[\"val_loss\"],\"ro-\")\n",
    "plt.title(\"Model Loss\")\n",
    "plt.xlabel(\"Epochs\")\n",
    "plt.ylabel(\"Loss\")\n",
    "plt.legend([\"Train\",\"val\"],loc = \"upper left\")\n",
    "plt.show()"
   ]
  },
  {
   "cell_type": "code",
   "execution_count": null,
   "metadata": {
    "id": "HVQLfi6RsKAn"
   },
   "outputs": [],
   "source": []
  }
 ],
 "metadata": {
  "accelerator": "GPU",
  "colab": {
   "collapsed_sections": [],
   "name": "vgg_695.ipynb",
   "provenance": []
  },
  "kernelspec": {
   "display_name": "Python 3",
   "language": "python",
   "name": "python3"
  },
  "language_info": {
   "codemirror_mode": {
    "name": "ipython",
    "version": 3
   },
   "file_extension": ".py",
   "mimetype": "text/x-python",
   "name": "python",
   "nbconvert_exporter": "python",
   "pygments_lexer": "ipython3",
   "version": "3.7.6"
  }
 },
 "nbformat": 4,
 "nbformat_minor": 1
}
